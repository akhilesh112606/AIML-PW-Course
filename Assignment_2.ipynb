{
  "nbformat": 4,
  "nbformat_minor": 0,
  "metadata": {
    "colab": {
      "provenance": []
    },
    "kernelspec": {
      "name": "python3",
      "display_name": "Python 3"
    },
    "language_info": {
      "name": "python"
    }
  },
  "cells": [
    {
      "cell_type": "markdown",
      "source": [
        "# ASSIGNMENT 2\n",
        "## Data Types and Structures"
      ],
      "metadata": {
        "id": "S0aQlOqyfIsk"
      }
    },
    {
      "cell_type": "markdown",
      "source": [
        "1. What are data structures and why are they important?\n",
        "  - Data structures is a structured way of storing the data in an efficient way which optimizes the space and time complexities, they are important to make the proposed solution better and faster.\n",
        "\n",
        "2. Explain the difference between mutable and immutable data types with examples\n",
        "  - Mutable : These are the datatypes whose value can be manipulated or changed and they do not share the same memory location so that the changes can take place.\n",
        "\n",
        "  - Immutable : These are the data types whose value cannot be changed once they are declared as they contain the same memory location, changes will lead to creation of new memory location leading to an error\n",
        "\n",
        "3. What are the main differences between lists and tuples in Python?\n",
        "  - The main difference is their object mutability, lists are mutable datatypes whereas the tuples are immutable datatypes\n",
        "\n",
        "4. Describe how dictionaries store data.\n",
        "  - Dictionaries store the data in the form of a hash table using the key-value pairs technique, where each key is unique and indexed using the keys\n",
        "\n",
        "5.  Why might you use a set instead of a list in Python?\n",
        "  - I would prefer set than a list when I want to involve the operations like union, intersection etc., Also when I want unique elements only.\n",
        "\n",
        "6. What is a string in Python, and how is it different from a list?\n",
        "  - A string is a datatype which stores a sequence of the characters, also in a list we can store all types of datatypes whereas in a string we can store only the character datatype.\n",
        "\n",
        "7. How do tuples ensure data integrity in Python?\n",
        "  - Tupes ensure the data integrity by their immutable nature providing extra secuirty and protection.\n",
        "\n",
        "8. What is a hash table and how does it relate to dictionaries in python?\n",
        "  - Hash table is a datatype which works on the principle of key-value, it relates to the dictionaries in python as their data is stored and retrieved using the hash table.\n",
        "\n",
        "9. Can lists contain different datatypes in python?\n",
        "  - Yes lists can contain different datatypes in Python.\n",
        "\n",
        "10. Explain why strings are immutable in python?\n",
        "  - Strings are immutable in python, as we cannot just store a whole another string in the place of a character, as string is a sequeunce of array of characters, each char memory is only 1 byte. So they cannot be changed leading to creation of extra memory so strings are immutable.\n",
        "\n",
        "11. What advantages do dictionaries offer over lists for certain tasks?\n",
        "  - Dictionaries have lesser time complexity than lists as they work on the basis of Hash tables and have key-pair technique. Easy to retrieve the data.\n",
        "\n",
        "12.  Describe a scenario where using a tuple would be preferable over a list\n",
        "  - The situation where we want to store the GPS Coordinates(x and y) of a particular area, a tuple would be highly preferred as it cannot be manipulated.\n",
        "\n",
        "13. How do sets handle duplicate values in Python?\n",
        "  - When a duplicate values occurs in a set, it instantly removes them as sets are established to store only unique values in it.\n",
        "\n",
        "14. How does the “in” keyword work differently for lists and dictionaries?\n",
        "  - In lists 'in' keyword is used to access every element in it to a corresponding temporary variable, whereas in dictionary using the 'in' keyword we can access all the keys but not their values.\n",
        "\n",
        "15. Can you modify the elements of a tuple? Explain why or why not?\n",
        "  - No, we cannot modify the elements of a tuple as it is a immutable datatype, changing so will lead to creation of a newer memory space leading to error!\n",
        "\n",
        "16. What is a nested dictionary, and give an example of its use case?\n",
        "  - Nested Dictionary is nothing but storing an another dictionary inside the value of a key. Use case : The real time example would be a bank consumer details in which his account number will be stored as a key, and all the details will be stored as a nessted dictionary inside the account number value.\n",
        "\n",
        "17. Describe the time complexity of accessing elements in a dictionary?\n",
        "  - The time complexity will be O(N) as the dictionaries follow hashing.\n",
        "\n",
        "18. In what situations are lists preferred over dictionaries?\n",
        "  - In situations where it does not require a key to access the data. When the data belongs to a single entity lists are preffered.\n",
        "\n",
        "19. Why are dictionaries considered unordered, and how does that affect data retrieval?\n",
        "  - Dictionaries are considered unordered becuase they are not kept in an ordered way as the key can be of different data types & it involves hashing so the unordereness does not make any affect on the data retrieval.\n",
        "\n",
        "20. Explain the difference between a list and a dictionary in terms of data retrieval.\n",
        "  - In a list data is retrieved using a linear time complexity as it has to check the list in a linear fashion to find the data which is suitable for the condition whereas the data retrieval in the dictionary is done using the hashing which will require only O(1) time complexity.\n",
        "\n",
        "\n",
        "\n",
        "\n",
        "\n",
        "\n",
        "\n",
        "\n",
        "\n"
      ],
      "metadata": {
        "id": "lRTZZ0xAfPdP"
      }
    },
    {
      "cell_type": "markdown",
      "source": [
        "## Practical Questions"
      ],
      "metadata": {
        "id": "P2-pCM6mhD0X"
      }
    },
    {
      "cell_type": "code",
      "source": [
        "# Question 1\n",
        "ques1 = \"Akhilesh\"\n",
        "print(ques1)"
      ],
      "metadata": {
        "colab": {
          "base_uri": "https://localhost:8080/"
        },
        "id": "GuXTbF867miN",
        "outputId": "599ea456-f3c0-43eb-c2f1-f51eaf9c2c49"
      },
      "execution_count": 1,
      "outputs": [
        {
          "output_type": "stream",
          "name": "stdout",
          "text": [
            "Akhilesh\n"
          ]
        }
      ]
    },
    {
      "cell_type": "code",
      "source": [
        "# Question 2\n",
        "ques2 = \"Hello World\"\n",
        "print(len(ques2))"
      ],
      "metadata": {
        "colab": {
          "base_uri": "https://localhost:8080/"
        },
        "id": "9E_kYxxM7zwb",
        "outputId": "ba480afa-e48c-4fec-c53b-8971e347f792"
      },
      "execution_count": 2,
      "outputs": [
        {
          "output_type": "stream",
          "name": "stdout",
          "text": [
            "11\n"
          ]
        }
      ]
    },
    {
      "cell_type": "code",
      "source": [
        "# Question 3\n",
        "ques3 = \"Python Programming\"\n",
        "print(ques3[:3])"
      ],
      "metadata": {
        "colab": {
          "base_uri": "https://localhost:8080/"
        },
        "id": "UyEMTCchBKOo",
        "outputId": "e044959d-e13b-4420-980b-91c349b5c5bf"
      },
      "execution_count": 3,
      "outputs": [
        {
          "output_type": "stream",
          "name": "stdout",
          "text": [
            "Pyt\n"
          ]
        }
      ]
    },
    {
      "cell_type": "code",
      "source": [
        "# Question 4\n",
        "ques4 = \"hello\"\n",
        "print(ques4.upper())"
      ],
      "metadata": {
        "colab": {
          "base_uri": "https://localhost:8080/"
        },
        "id": "a1_mSY4VBkMx",
        "outputId": "f8924a67-8bda-402e-f304-23936d3bb1f6"
      },
      "execution_count": 4,
      "outputs": [
        {
          "output_type": "stream",
          "name": "stdout",
          "text": [
            "HELLO\n"
          ]
        }
      ]
    },
    {
      "cell_type": "code",
      "source": [
        "# Question 5\n",
        "ques5 = \"I like apple\"\n",
        "ques5.replace(\"apple\", \"orange\")\n"
      ],
      "metadata": {
        "colab": {
          "base_uri": "https://localhost:8080/",
          "height": 35
        },
        "id": "CWwXjgpsCrgd",
        "outputId": "da25c8b6-b1cb-4762-a413-e865111b598e"
      },
      "execution_count": 5,
      "outputs": [
        {
          "output_type": "execute_result",
          "data": {
            "text/plain": [
              "'I like orange'"
            ],
            "application/vnd.google.colaboratory.intrinsic+json": {
              "type": "string"
            }
          },
          "metadata": {},
          "execution_count": 5
        }
      ]
    },
    {
      "cell_type": "code",
      "source": [
        "# Question 6\n",
        "ques6 = []\n",
        "for i in range(1,6):\n",
        "  ques6.append(i)\n",
        "ques6"
      ],
      "metadata": {
        "colab": {
          "base_uri": "https://localhost:8080/"
        },
        "id": "oPQKviv5EHF7",
        "outputId": "6e476f87-1581-4d13-e64a-906e3b72c3c3"
      },
      "execution_count": 7,
      "outputs": [
        {
          "output_type": "execute_result",
          "data": {
            "text/plain": [
              "[1, 2, 3, 4, 5]"
            ]
          },
          "metadata": {},
          "execution_count": 7
        }
      ]
    },
    {
      "cell_type": "code",
      "source": [
        "# Question 7\n",
        "ques7 = [1,2,3,4]\n",
        "ques7.append(10)\n",
        "ques7"
      ],
      "metadata": {
        "colab": {
          "base_uri": "https://localhost:8080/"
        },
        "id": "rGEDoLlHFz80",
        "outputId": "d394fdb3-b473-40eb-f9ed-ddf6f21b1273"
      },
      "execution_count": 9,
      "outputs": [
        {
          "output_type": "execute_result",
          "data": {
            "text/plain": [
              "[1, 2, 3, 4, 10]"
            ]
          },
          "metadata": {},
          "execution_count": 9
        }
      ]
    },
    {
      "cell_type": "code",
      "source": [
        "# Question 8\n",
        "ques8 = [1,2,3,4,5]\n",
        "ques8.remove(3)\n",
        "ques8"
      ],
      "metadata": {
        "colab": {
          "base_uri": "https://localhost:8080/"
        },
        "id": "hRZSEWsEJ4oV",
        "outputId": "6172a29d-d8f8-43b6-e63b-349c7618ad8e"
      },
      "execution_count": 11,
      "outputs": [
        {
          "output_type": "execute_result",
          "data": {
            "text/plain": [
              "[1, 2, 4, 5]"
            ]
          },
          "metadata": {},
          "execution_count": 11
        }
      ]
    },
    {
      "cell_type": "code",
      "source": [
        "# Question 9\n",
        "ques9 = ['a', 'b', 'c', 'd']\n",
        "ques9[1]"
      ],
      "metadata": {
        "colab": {
          "base_uri": "https://localhost:8080/",
          "height": 35
        },
        "id": "bIVq03XhKaVU",
        "outputId": "92afffa4-2b0d-4f2b-de54-58978ef308cd"
      },
      "execution_count": 13,
      "outputs": [
        {
          "output_type": "execute_result",
          "data": {
            "text/plain": [
              "'b'"
            ],
            "application/vnd.google.colaboratory.intrinsic+json": {
              "type": "string"
            }
          },
          "metadata": {},
          "execution_count": 13
        }
      ]
    },
    {
      "cell_type": "code",
      "source": [
        "# Question 10\n",
        "ques10 = [10,20,30,40,50]\n",
        "ques10.reverse()\n",
        "ques10"
      ],
      "metadata": {
        "colab": {
          "base_uri": "https://localhost:8080/"
        },
        "id": "DKl6sqdDLDdR",
        "outputId": "b1dd1b4d-882d-460a-e6b2-b05d5f662706"
      },
      "execution_count": 15,
      "outputs": [
        {
          "output_type": "execute_result",
          "data": {
            "text/plain": [
              "[50, 40, 30, 20, 10]"
            ]
          },
          "metadata": {},
          "execution_count": 15
        }
      ]
    },
    {
      "cell_type": "code",
      "source": [
        "# Question 11\n",
        "ques11 = (100,200,300)\n",
        "ques11"
      ],
      "metadata": {
        "colab": {
          "base_uri": "https://localhost:8080/"
        },
        "id": "uMpKBvuKMfJr",
        "outputId": "66d9ea40-4db2-421e-9265-fecf97de3319"
      },
      "execution_count": 16,
      "outputs": [
        {
          "output_type": "execute_result",
          "data": {
            "text/plain": [
              "(100, 200, 300)"
            ]
          },
          "metadata": {},
          "execution_count": 16
        }
      ]
    },
    {
      "cell_type": "code",
      "source": [
        "# Question 12\n",
        "ques12 = ('red', 'green', 'yellow', 'blue')\n",
        "ques12[-2]"
      ],
      "metadata": {
        "colab": {
          "base_uri": "https://localhost:8080/",
          "height": 35
        },
        "id": "kqc_vZO0M-cK",
        "outputId": "bbbfa171-3858-4e61-f9dd-b276866c19ab"
      },
      "execution_count": 18,
      "outputs": [
        {
          "output_type": "execute_result",
          "data": {
            "text/plain": [
              "'yellow'"
            ],
            "application/vnd.google.colaboratory.intrinsic+json": {
              "type": "string"
            }
          },
          "metadata": {},
          "execution_count": 18
        }
      ]
    },
    {
      "cell_type": "code",
      "source": [
        "# Question 13\n",
        "ques13 = (10, 20, 5, 15)\n",
        "max(ques13)"
      ],
      "metadata": {
        "colab": {
          "base_uri": "https://localhost:8080/"
        },
        "id": "tSXViNlBNF47",
        "outputId": "13a4b8a5-392b-4ed8-a885-0fd224d2e6d4"
      },
      "execution_count": 20,
      "outputs": [
        {
          "output_type": "execute_result",
          "data": {
            "text/plain": [
              "20"
            ]
          },
          "metadata": {},
          "execution_count": 20
        }
      ]
    },
    {
      "cell_type": "code",
      "source": [
        "# Question 14\n",
        "ques14 = ('dog', 'cat', 'rabbit')\n",
        "ques14.index('cat')\n",
        "\n"
      ],
      "metadata": {
        "colab": {
          "base_uri": "https://localhost:8080/"
        },
        "id": "2DVNVIVJNW0q",
        "outputId": "5bfce2b4-a76b-45ea-db99-6f5b0db0bf91"
      },
      "execution_count": 22,
      "outputs": [
        {
          "output_type": "execute_result",
          "data": {
            "text/plain": [
              "1"
            ]
          },
          "metadata": {},
          "execution_count": 22
        }
      ]
    },
    {
      "cell_type": "code",
      "source": [
        "# Question 15\n",
        "ques15 = ('apple', 'kiwi', 'guava')\n",
        "if 'kiwi' in ques15:\n",
        "  print('Kiwi is Available')\n",
        "else:\n",
        "  print('Kiwi is not Available')"
      ],
      "metadata": {
        "colab": {
          "base_uri": "https://localhost:8080/"
        },
        "id": "MM3x5JrXQVfq",
        "outputId": "c7ca6602-113a-45fb-c20b-e373b6254eae"
      },
      "execution_count": 23,
      "outputs": [
        {
          "output_type": "stream",
          "name": "stdout",
          "text": [
            "Kiwi is Available\n"
          ]
        }
      ]
    },
    {
      "cell_type": "code",
      "source": [
        "# Question 16\n",
        "ques16 = {'a', 'b', 'c'}\n",
        "print(ques16)"
      ],
      "metadata": {
        "id": "f_TksbaMQkFx",
        "colab": {
          "base_uri": "https://localhost:8080/"
        },
        "outputId": "c6992870-3056-4136-970a-704b2e49faba"
      },
      "execution_count": 24,
      "outputs": [
        {
          "output_type": "stream",
          "name": "stdout",
          "text": [
            "{'b', 'a', 'c'}\n"
          ]
        }
      ]
    },
    {
      "cell_type": "code",
      "source": [
        "# Question 17\n",
        "ques17 = {1,2,3,4,5}\n",
        "ques17.clear()\n",
        "ques17"
      ],
      "metadata": {
        "colab": {
          "base_uri": "https://localhost:8080/"
        },
        "id": "1PfhorNahbxU",
        "outputId": "b538b3be-614d-4ddc-d2e3-bb0928f087ff"
      },
      "execution_count": 27,
      "outputs": [
        {
          "output_type": "execute_result",
          "data": {
            "text/plain": [
              "set()"
            ]
          },
          "metadata": {},
          "execution_count": 27
        }
      ]
    },
    {
      "cell_type": "code",
      "source": [
        "# Question 18\n",
        "ques18 = {1,2,3,4}\n",
        "ques18.remove(4)\n",
        "ques18"
      ],
      "metadata": {
        "colab": {
          "base_uri": "https://localhost:8080/"
        },
        "id": "TbFoT4-Ahin5",
        "outputId": "c8af6cdd-d779-4cb3-c703-50e1d7488a4b"
      },
      "execution_count": 29,
      "outputs": [
        {
          "output_type": "execute_result",
          "data": {
            "text/plain": [
              "{1, 2, 3}"
            ]
          },
          "metadata": {},
          "execution_count": 29
        }
      ]
    },
    {
      "cell_type": "code",
      "source": [
        "# Question 19\n",
        "ques19_1 = {1,2,3}\n",
        "ques19_2 = {3,4,5}\n",
        "ques19_1.union(ques19_2)"
      ],
      "metadata": {
        "colab": {
          "base_uri": "https://localhost:8080/"
        },
        "id": "GQe65BOuhpzX",
        "outputId": "9148ba32-afb5-425b-c5c7-d58c84433fc1"
      },
      "execution_count": 30,
      "outputs": [
        {
          "output_type": "execute_result",
          "data": {
            "text/plain": [
              "{1, 2, 3, 4, 5}"
            ]
          },
          "metadata": {},
          "execution_count": 30
        }
      ]
    },
    {
      "cell_type": "code",
      "source": [
        "# Question 20\n",
        "ques20_1 = {1,2,3}\n",
        "ques20_2 = {3,4,5}\n",
        "ques20_1.intersection(ques20_2)"
      ],
      "metadata": {
        "colab": {
          "base_uri": "https://localhost:8080/"
        },
        "id": "mtvXUdOjh3Sb",
        "outputId": "64c87b77-2783-4987-a4b1-085ff9fdc8ae"
      },
      "execution_count": 31,
      "outputs": [
        {
          "output_type": "execute_result",
          "data": {
            "text/plain": [
              "{3}"
            ]
          },
          "metadata": {},
          "execution_count": 31
        }
      ]
    },
    {
      "cell_type": "code",
      "source": [
        "# Question 21\n",
        "ques21 = {\n",
        "    \"name\" : \"Akhilesh\",\n",
        "    \"age\" : 19,\n",
        "    \"city\" : \"Vijayawada\"\n",
        "}\n",
        "for key in ques21:\n",
        "  print(key)"
      ],
      "metadata": {
        "colab": {
          "base_uri": "https://localhost:8080/"
        },
        "id": "EoKZ9W1DiCeJ",
        "outputId": "57d3a3eb-fb7c-4446-d367-dd5880b14ef2"
      },
      "execution_count": 32,
      "outputs": [
        {
          "output_type": "stream",
          "name": "stdout",
          "text": [
            "name\n",
            "age\n",
            "city\n"
          ]
        }
      ]
    },
    {
      "cell_type": "code",
      "source": [
        "# Question 22\n",
        "ques22 = {\n",
        "    \"name\" : \"John\",\n",
        "    \"age\" : 25,\n",
        "}\n",
        "\n",
        "temp = {\n",
        "    \"country\" : \"usa\"\n",
        "}\n",
        "ques22.update(temp)\n",
        "ques22"
      ],
      "metadata": {
        "colab": {
          "base_uri": "https://localhost:8080/"
        },
        "id": "7fL99aB2iRob",
        "outputId": "9ed4657a-2c0c-4618-d087-17584ff3e48a"
      },
      "execution_count": 36,
      "outputs": [
        {
          "output_type": "execute_result",
          "data": {
            "text/plain": [
              "{'name': 'John', 'age': 25, 'country': 'usa'}"
            ]
          },
          "metadata": {},
          "execution_count": 36
        }
      ]
    },
    {
      "cell_type": "code",
      "source": [
        "# Question 23\n",
        "ques23 = {\n",
        "    \"name\" : \"Alice\",\n",
        "    \"age\" : 30\n",
        "}\n",
        "\n",
        "print(ques23[\"name\"])\n"
      ],
      "metadata": {
        "colab": {
          "base_uri": "https://localhost:8080/"
        },
        "id": "TcXRAFxniYRO",
        "outputId": "fe8ec165-f4dd-4aea-9d40-5ac03f605f6c"
      },
      "execution_count": 37,
      "outputs": [
        {
          "output_type": "stream",
          "name": "stdout",
          "text": [
            "Alice\n"
          ]
        }
      ]
    },
    {
      "cell_type": "code",
      "source": [
        "# Question 24\n",
        "ques24 = {\n",
        "    \"name\" : \"Bob\",\n",
        "    \"age\" : 22,\n",
        "    \"city\" : \"New York\"\n",
        "}\n",
        "\n",
        "ques24.pop(\"age\")\n",
        "ques24"
      ],
      "metadata": {
        "colab": {
          "base_uri": "https://localhost:8080/"
        },
        "id": "PlEsSjkPjUuA",
        "outputId": "9352a72b-c482-491b-bc12-254524cd2696"
      },
      "execution_count": 40,
      "outputs": [
        {
          "output_type": "execute_result",
          "data": {
            "text/plain": [
              "{'name': 'Bob', 'city': 'New York'}"
            ]
          },
          "metadata": {},
          "execution_count": 40
        }
      ]
    },
    {
      "cell_type": "code",
      "source": [
        "# Question 25\n",
        "ques25 = {\n",
        "    \"name\" : \"Alice\",\n",
        "    \"city\" : \"Paris\",\n",
        "}\n",
        "\n",
        "if \"city\" in ques25:\n",
        "  print(\"Yes\")\n",
        "else:\n",
        "  print(\"no\")"
      ],
      "metadata": {
        "colab": {
          "base_uri": "https://localhost:8080/"
        },
        "id": "dYRhiN5sjy0X",
        "outputId": "0adcbf10-ad4c-4ed7-983f-09817ef9a750"
      },
      "execution_count": 42,
      "outputs": [
        {
          "output_type": "stream",
          "name": "stdout",
          "text": [
            "Yes\n"
          ]
        }
      ]
    },
    {
      "cell_type": "code",
      "source": [
        "# Question 26\n",
        "ques26_1 = [1,2,3,4,5]\n",
        "ques26_2 = (10,20,30,40,50)\n",
        "ques26_3 = {\n",
        "    10 : \"Ten\",\n",
        "    20 : \"Twntry\"\n",
        "}\n",
        "\n",
        "print(ques26_1)\n",
        "print(ques26_2)\n",
        "print(ques26_3)"
      ],
      "metadata": {
        "colab": {
          "base_uri": "https://localhost:8080/"
        },
        "id": "3MI-5KM9kIMw",
        "outputId": "2e47aac4-1352-47a2-960c-4542296dfd8a"
      },
      "execution_count": 43,
      "outputs": [
        {
          "output_type": "stream",
          "name": "stdout",
          "text": [
            "[1, 2, 3, 4, 5]\n",
            "(10, 20, 30, 40, 50)\n",
            "{10: 'Ten', 20: 'Twntry'}\n"
          ]
        }
      ]
    },
    {
      "cell_type": "code",
      "source": [
        "# Question 27\n",
        "import random\n",
        "ques27 = []\n",
        "for i in range(5):\n",
        "  temp = random.randint(1,101)\n",
        "  ques27.append(temp)\n",
        "ques27.sort()\n",
        "ques27"
      ],
      "metadata": {
        "colab": {
          "base_uri": "https://localhost:8080/"
        },
        "id": "hFyNpQ7WkgJj",
        "outputId": "43559bc6-5329-403b-99c0-4deda6d1261b"
      },
      "execution_count": 44,
      "outputs": [
        {
          "output_type": "execute_result",
          "data": {
            "text/plain": [
              "[8, 48, 55, 55, 62]"
            ]
          },
          "metadata": {},
          "execution_count": 44
        }
      ]
    },
    {
      "cell_type": "code",
      "source": [
        "# Question 28\n",
        "ques28 = [\"Akhil\", \"Sailesh\", \"Abhinav\"]\n",
        "ques28[2]"
      ],
      "metadata": {
        "colab": {
          "base_uri": "https://localhost:8080/",
          "height": 35
        },
        "id": "E5Z0Snk4k16a",
        "outputId": "9db921ca-b5e3-4961-9dfa-f29bdb66348f"
      },
      "execution_count": 45,
      "outputs": [
        {
          "output_type": "execute_result",
          "data": {
            "text/plain": [
              "'Abhinav'"
            ],
            "application/vnd.google.colaboratory.intrinsic+json": {
              "type": "string"
            }
          },
          "metadata": {},
          "execution_count": 45
        }
      ]
    },
    {
      "cell_type": "code",
      "source": [
        "# Question 29\n",
        "ques29_1 = {\n",
        "    \"name1\" : \"Akhilesh\",\n",
        "    \"age1\" : 19\n",
        "}\n",
        "\n",
        "ques29_2 = {\n",
        "    \"name2\" : \"Sailesh\",\n",
        "    \"age2\" : 27\n",
        "}\n",
        "\n",
        "ques29_2.update(ques29_1)\n",
        "ques29_2"
      ],
      "metadata": {
        "colab": {
          "base_uri": "https://localhost:8080/"
        },
        "id": "NeztrQASlANe",
        "outputId": "8ec7ef76-bd45-4b6f-ccc7-9383803eab42"
      },
      "execution_count": 48,
      "outputs": [
        {
          "output_type": "execute_result",
          "data": {
            "text/plain": [
              "{'name2': 'Sailesh', 'age2': 27, 'name1': 'Akhilesh', 'age1': 19}"
            ]
          },
          "metadata": {},
          "execution_count": 48
        }
      ]
    },
    {
      "cell_type": "code",
      "source": [
        "# Question 30\n",
        "ques30_1 = [\"Akhil\", \"Sailesh\", \"Abhinav\"]\n",
        "ques30_2 = set(ques30_1)\n",
        "print(ques30_2)"
      ],
      "metadata": {
        "colab": {
          "base_uri": "https://localhost:8080/"
        },
        "id": "QXmNt9nMlTvn",
        "outputId": "515470a5-1df1-4e3a-afdc-6f59b480e734"
      },
      "execution_count": 49,
      "outputs": [
        {
          "output_type": "stream",
          "name": "stdout",
          "text": [
            "{'Sailesh', 'Akhil', 'Abhinav'}\n"
          ]
        }
      ]
    },
    {
      "cell_type": "code",
      "source": [],
      "metadata": {
        "id": "x-5qwSSNlngu"
      },
      "execution_count": null,
      "outputs": []
    }
  ]
}
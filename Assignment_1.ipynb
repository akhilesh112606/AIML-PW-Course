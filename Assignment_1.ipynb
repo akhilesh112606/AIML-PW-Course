{
  "nbformat": 4,
  "nbformat_minor": 0,
  "metadata": {
    "colab": {
      "provenance": []
    },
    "kernelspec": {
      "name": "python3",
      "display_name": "Python 3"
    },
    "language_info": {
      "name": "python"
    }
  },
  "cells": [
    {
      "cell_type": "markdown",
      "source": [
        "# ASSIGNMENT 1\n",
        "## Python Basic Questions"
      ],
      "metadata": {
        "id": "S0aQlOqyfIsk"
      }
    },
    {
      "cell_type": "markdown",
      "source": [
        "1. What is Python and why is it popular? <br>\n",
        " - Python is a high-level programming language which deos the tasks given by the user. Python is an Intrepreted language. The reason why Python is a popular language is due its vast active community and wide range of libraries and modules availability. For the trending technologies python is the language which is being used more.\n",
        "\n",
        "2. What is an Intrepreter in Python?\n",
        "  - In Python Intrepreter is a converter which converts the python code into machine level language, by Line by Line unlinke compiler converting everything at once.\n",
        "\n",
        "3. What are pre-defined keywords in Python?\n",
        "  - In Python pre-defined keywords are the words which already have a pre allocated meaning to perform a particular task.\n",
        "\n",
        "4. Can keywords be used as variable names?\n",
        "  - No, the keywordsa cannot be used as a variable names because these words already have a meaning, so syntaxically we cannot use keywords as a variable name.\n",
        "\n",
        "5. What is Mutability in Python?\n",
        "  - Mutuability is the term given for those variables or memory addresses which can be modified or changed.\n",
        "\n",
        "6. Why are lists Mutable, but tuples are Immutable?\n",
        "  - A list is a Mutuable data type because it is designed to be dynamic, as it stores the elements by a array of Pointers - references so tha allocated memeory can be changed so it is called as Mutable<br>\n",
        "  Whereas the tuple is designed to be static, as it's memory is allocated in the Fixed block of memory, so by modifications it will lead to a new tuple, which turns up as a ERROR\n",
        "\n",
        "7. What is the difference between \"==\" and is operator in Python?\n",
        "  - == Operator is known as the comparision operator which is used to evaluate whether both the variable values are equal or not. \"is\" operator is used to check whether both the variables are referring to the same memory location or not\n",
        "\n",
        "8. What are logical operators in Python?\n",
        "  - These are the operators which are used in the condition section for checking.\n",
        "  - Logical operators in python are the following:\n",
        "    1. Logical AND (and)\n",
        "    2. Logical OR (or)\n",
        "    3. Logical NOT (not)\n",
        "\n",
        "9. What is Type Casting in Python?\n",
        "  - Type casting is the process where the data types of the variables can be converted into another data types, this can be done both Implicitly and Explicitly\n",
        "\n",
        "10. What is the difference between Implicit and Explicit Type Casting in python?\n",
        "  - Implicit Type Casting : In this the type conversion is done automatically, here the risk of data loss during conversion is high.\n",
        "\n",
        "  - Explicit Type Casting : In this the type conversion is done explicitly when mentioned by the user or programmer, here the risk of data loss is low.\n",
        "\n",
        "11. What is the purpose of Conditional Statements in Python?\n",
        "  - Conditional statements are the statements which are used to check a condition and return True or False.\n",
        "\n",
        "12. How does Elif Statement work?\n",
        "  - Elif is the statement which is similar to else, which is triggered only when its correspondent IF statement is Failed, but here it also checks a condition, It is like a add-on to else statement.\n",
        "\n",
        "13. What is the difference between for and while loop?\n",
        "  - For Loop : For loop is used when we know the number of times a loop should be running, It consists of three places, Declaration, Condition Checking and Increment/Decremenet.\n",
        "  - While Loop : It is a loop which is run on the conditional basis, as long as the condition is true the loop will keep on running\n",
        "\n",
        "14. Describe a sceario where a While loop is more suitable than a for loop\n",
        "  - In reversing of a number where we do not know the number of digits the input number contains exactly, so based on the conditional basis we use the While Loop instead of for loop, we can also use the for loop but for this situation the while loop makes more sense.\n",
        "\n"
      ],
      "metadata": {
        "id": "lRTZZ0xAfPdP"
      }
    },
    {
      "cell_type": "markdown",
      "source": [
        "## Practical Questions"
      ],
      "metadata": {
        "id": "P2-pCM6mhD0X"
      }
    },
    {
      "cell_type": "code",
      "source": [
        "# Question 1\n",
        "print(\"Hello World\")"
      ],
      "metadata": {
        "colab": {
          "base_uri": "https://localhost:8080/"
        },
        "id": "GuXTbF867miN",
        "outputId": "810dc22a-9dc7-4d72-e29c-a392b4eb5c83"
      },
      "execution_count": 1,
      "outputs": [
        {
          "output_type": "stream",
          "name": "stdout",
          "text": [
            "Hello World\n"
          ]
        }
      ]
    },
    {
      "cell_type": "code",
      "source": [
        "# Question 2\n",
        "name = \"Akhilesh\"\n",
        "age = 19\n",
        "print(name +\" \"+str(age))"
      ],
      "metadata": {
        "colab": {
          "base_uri": "https://localhost:8080/"
        },
        "id": "9E_kYxxM7zwb",
        "outputId": "b7406511-d886-4bb6-bbc3-f7c759d199a9"
      },
      "execution_count": 4,
      "outputs": [
        {
          "output_type": "stream",
          "name": "stdout",
          "text": [
            "Akhilesh 19\n"
          ]
        }
      ]
    },
    {
      "cell_type": "code",
      "source": [
        "# Question 3\n",
        "import keyword\n",
        "print(keyword.kwlist)"
      ],
      "metadata": {
        "colab": {
          "base_uri": "https://localhost:8080/"
        },
        "id": "UyEMTCchBKOo",
        "outputId": "c9a41787-13c7-46ed-a9af-97598de626bb"
      },
      "execution_count": 7,
      "outputs": [
        {
          "output_type": "stream",
          "name": "stdout",
          "text": [
            "['False', 'None', 'True', 'and', 'as', 'assert', 'async', 'await', 'break', 'class', 'continue', 'def', 'del', 'elif', 'else', 'except', 'finally', 'for', 'from', 'global', 'if', 'import', 'in', 'is', 'lambda', 'nonlocal', 'not', 'or', 'pass', 'raise', 'return', 'try', 'while', 'with', 'yield']\n"
          ]
        }
      ]
    },
    {
      "cell_type": "code",
      "source": [
        "# Question 4\n",
        "key_word = input(\"Enter keyword : \")\n",
        "if key_word in keyword.kwlist:\n",
        "  print(\"Available\")\n",
        "else:\n",
        "  print(\"Not Available\")"
      ],
      "metadata": {
        "colab": {
          "base_uri": "https://localhost:8080/"
        },
        "id": "a1_mSY4VBkMx",
        "outputId": "2c2f86df-f464-4bf5-a185-a554e1fed2f9"
      },
      "execution_count": 8,
      "outputs": [
        {
          "output_type": "stream",
          "name": "stdout",
          "text": [
            "Enter keyword : True\n",
            "Available\n"
          ]
        }
      ]
    },
    {
      "cell_type": "code",
      "source": [
        "# Question 5\n",
        "my_list = [1,2,3]\n",
        "my_tuple = (1,2,3)\n",
        "my_list.append(4)\n",
        "my_tuple.append(4)\n"
      ],
      "metadata": {
        "colab": {
          "base_uri": "https://localhost:8080/",
          "height": 176
        },
        "id": "CWwXjgpsCrgd",
        "outputId": "95d68523-ab96-47ef-ce45-260405bcb609"
      },
      "execution_count": 9,
      "outputs": [
        {
          "output_type": "error",
          "ename": "AttributeError",
          "evalue": "'tuple' object has no attribute 'append'",
          "traceback": [
            "\u001b[0;31m---------------------------------------------------------------------------\u001b[0m",
            "\u001b[0;31mAttributeError\u001b[0m                            Traceback (most recent call last)",
            "\u001b[0;32m<ipython-input-9-6e311b4e33c4>\u001b[0m in \u001b[0;36m<cell line: 0>\u001b[0;34m()\u001b[0m\n\u001b[1;32m      3\u001b[0m \u001b[0mmy_tuple\u001b[0m \u001b[0;34m=\u001b[0m \u001b[0;34m(\u001b[0m\u001b[0;36m1\u001b[0m\u001b[0;34m,\u001b[0m\u001b[0;36m2\u001b[0m\u001b[0;34m,\u001b[0m\u001b[0;36m3\u001b[0m\u001b[0;34m)\u001b[0m\u001b[0;34m\u001b[0m\u001b[0;34m\u001b[0m\u001b[0m\n\u001b[1;32m      4\u001b[0m \u001b[0mmy_list\u001b[0m\u001b[0;34m.\u001b[0m\u001b[0mappend\u001b[0m\u001b[0;34m(\u001b[0m\u001b[0;36m4\u001b[0m\u001b[0;34m)\u001b[0m\u001b[0;34m\u001b[0m\u001b[0;34m\u001b[0m\u001b[0m\n\u001b[0;32m----> 5\u001b[0;31m \u001b[0mmy_tuple\u001b[0m\u001b[0;34m.\u001b[0m\u001b[0mappend\u001b[0m\u001b[0;34m(\u001b[0m\u001b[0;36m4\u001b[0m\u001b[0;34m)\u001b[0m\u001b[0;34m\u001b[0m\u001b[0;34m\u001b[0m\u001b[0m\n\u001b[0m",
            "\u001b[0;31mAttributeError\u001b[0m: 'tuple' object has no attribute 'append'"
          ]
        }
      ]
    },
    {
      "cell_type": "code",
      "source": [
        "# Question 6\n",
        "def demonstrate_mut_notmut(my_list, num):\n",
        "  my_list.append(4)\n",
        "  num+=10\n",
        "  print(f\"List in Function : {my_list}\")\n",
        "  print(f\"Number in Main : {num}\")\n",
        "\n",
        "my_list = [1,2,3]\n",
        "num = 10\n",
        "\n",
        "demonstrate_mut_notmut(my_list, num)\n",
        "\n",
        "print(f\"List in Main : {my_list}\")\n",
        "print(f\"Number in Main : {num}\")"
      ],
      "metadata": {
        "colab": {
          "base_uri": "https://localhost:8080/"
        },
        "id": "oPQKviv5EHF7",
        "outputId": "3cb0b882-f839-4e07-e7f7-b7e2cd41ca61"
      },
      "execution_count": 10,
      "outputs": [
        {
          "output_type": "stream",
          "name": "stdout",
          "text": [
            "List in Function : [1, 2, 3, 4]\n",
            "Number in Main : 20\n",
            "List in Main : [1, 2, 3, 4]\n",
            "Number in Main : 10\n"
          ]
        }
      ]
    },
    {
      "cell_type": "code",
      "source": [
        "# Question 7\n",
        "x = int(input(\"Enter x number : \"))\n",
        "y = int(input(\"Enter y number : \"))\n",
        "\n",
        "print(f\"SUM : {x+y}\")"
      ],
      "metadata": {
        "colab": {
          "base_uri": "https://localhost:8080/"
        },
        "id": "rGEDoLlHFz80",
        "outputId": "bb9ce188-1284-4393-a371-b8c52335f0ce"
      },
      "execution_count": 11,
      "outputs": [
        {
          "output_type": "stream",
          "name": "stdout",
          "text": [
            "Enter x number : 5\n",
            "Enter y number : 5\n",
            "SUM : 10\n"
          ]
        }
      ]
    },
    {
      "cell_type": "code",
      "source": [
        "# Question 8\n",
        "x = int(input(\"Enter a number : \"))\n",
        "if x > 0 or x == 0:\n",
        "  print(\"Positive Number\")\n",
        "else:\n",
        "  print(\"Negative Number\")\n"
      ],
      "metadata": {
        "colab": {
          "base_uri": "https://localhost:8080/"
        },
        "id": "hRZSEWsEJ4oV",
        "outputId": "5600f7ff-0fcf-4a6b-e050-60b2ebc4a130"
      },
      "execution_count": 13,
      "outputs": [
        {
          "output_type": "stream",
          "name": "stdout",
          "text": [
            "Enter a number : 5\n",
            "Positive Number\n"
          ]
        }
      ]
    },
    {
      "cell_type": "code",
      "source": [
        "# Question 9\n",
        "x = int(input(\"Enter for a integer : \"))\n",
        "y = float(input(\"Enter for a Float : \"))\n",
        "z = bool(input(\"Enter for a bool : \"))\n",
        "\n",
        "print(f\"x : {type(x)}\" )\n",
        "print(f\"y : {type(y)}\" )\n",
        "print(f\"z : {type(z)}\" )"
      ],
      "metadata": {
        "colab": {
          "base_uri": "https://localhost:8080/"
        },
        "id": "bIVq03XhKaVU",
        "outputId": "a8b16eb7-c52a-4db1-9435-1ddb85782543"
      },
      "execution_count": 14,
      "outputs": [
        {
          "output_type": "stream",
          "name": "stdout",
          "text": [
            "Enter for a integer : 5\n",
            "Enter for a Float : 2.3\n",
            "Enter for a bool : 0\n",
            "x : <class 'int'>\n",
            "y : <class 'float'>\n",
            "z : <class 'bool'>\n"
          ]
        }
      ]
    },
    {
      "cell_type": "code",
      "source": [
        "# Question 10\n",
        "my_list2 = [\"69\", 3.44, 0]\n",
        "my_list2[0] = int(my_list2[0])\n",
        "my_list2[1] = int(my_list2[1])\n",
        "my_list2[2] = bool(my_list2[2])\n",
        "\n",
        "print(my_list2)"
      ],
      "metadata": {
        "colab": {
          "base_uri": "https://localhost:8080/"
        },
        "id": "DKl6sqdDLDdR",
        "outputId": "529e9c64-0cae-46fd-f12d-582d87ca7e18"
      },
      "execution_count": 15,
      "outputs": [
        {
          "output_type": "stream",
          "name": "stdout",
          "text": [
            "[69, 3, False]\n"
          ]
        }
      ]
    },
    {
      "cell_type": "code",
      "source": [
        "# Question 11\n",
        "n = int(input(\"Enter a number : \"))\n",
        "if n==0:\n",
        "  print(\"Number is Zero\")\n",
        "elif n > 0:\n",
        "  print(\"Number is Positive\")\n",
        "else:\n",
        "  print(\"Number is Negative\")"
      ],
      "metadata": {
        "colab": {
          "base_uri": "https://localhost:8080/"
        },
        "id": "uMpKBvuKMfJr",
        "outputId": "73a052ed-c4dd-41a6-bfee-dc87f21a701e"
      },
      "execution_count": 16,
      "outputs": [
        {
          "output_type": "stream",
          "name": "stdout",
          "text": [
            "Enter a number : -9\n",
            "Number is Negative\n"
          ]
        }
      ]
    },
    {
      "cell_type": "code",
      "source": [
        "# Question 12\n",
        "for i in range(1,11):\n",
        "  print(i)"
      ],
      "metadata": {
        "colab": {
          "base_uri": "https://localhost:8080/"
        },
        "id": "kqc_vZO0M-cK",
        "outputId": "9b5ea9db-62b4-496b-a82c-ee4d389ac370"
      },
      "execution_count": 18,
      "outputs": [
        {
          "output_type": "stream",
          "name": "stdout",
          "text": [
            "1\n",
            "2\n",
            "3\n",
            "4\n",
            "5\n",
            "6\n",
            "7\n",
            "8\n",
            "9\n",
            "10\n"
          ]
        }
      ]
    },
    {
      "cell_type": "code",
      "source": [
        "# Question 13\n",
        "sum = 0\n",
        "for i in range(1, 51):\n",
        "  if i%2==0:\n",
        "    sum+=i\n",
        "print(f\"SUM : {sum}\")"
      ],
      "metadata": {
        "colab": {
          "base_uri": "https://localhost:8080/"
        },
        "id": "tSXViNlBNF47",
        "outputId": "42f43c23-3862-4cd7-afa9-2cb93cc69cb7"
      },
      "execution_count": 19,
      "outputs": [
        {
          "output_type": "stream",
          "name": "stdout",
          "text": [
            "SUM : 650\n"
          ]
        }
      ]
    },
    {
      "cell_type": "code",
      "source": [
        "# Question 14\n",
        "string = input(\"Enter a String : \")\n",
        "rev_string = \"\"\n",
        "n = len(string)\n",
        "i = n-1\n",
        "while i>=0:\n",
        "  rev_string += string[i]\n",
        "  i-=1\n",
        "print(f\"Reverse String : {rev_string}\")\n",
        "\n"
      ],
      "metadata": {
        "colab": {
          "base_uri": "https://localhost:8080/"
        },
        "id": "2DVNVIVJNW0q",
        "outputId": "aa6932a2-c962-4579-ac2a-77afd763d3d4"
      },
      "execution_count": 20,
      "outputs": [
        {
          "output_type": "stream",
          "name": "stdout",
          "text": [
            "Enter a String : hello\n",
            "Reverse String : olleh\n"
          ]
        }
      ]
    },
    {
      "cell_type": "code",
      "source": [
        "# Question 15\n",
        "n = int(input(\"Enter a number : \"))\n",
        "ans = 1\n",
        "while n>0:\n",
        "  ans*=n\n",
        "  n-=1\n",
        "print(ans)"
      ],
      "metadata": {
        "colab": {
          "base_uri": "https://localhost:8080/"
        },
        "id": "MM3x5JrXQVfq",
        "outputId": "37930d89-5de9-4465-d290-cca914c64946"
      },
      "execution_count": 22,
      "outputs": [
        {
          "output_type": "stream",
          "name": "stdout",
          "text": [
            "Enter a number : 5\n",
            "120\n"
          ]
        }
      ]
    },
    {
      "cell_type": "code",
      "source": [],
      "metadata": {
        "id": "f_TksbaMQkFx"
      },
      "execution_count": null,
      "outputs": []
    }
  ]
}
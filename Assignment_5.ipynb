{
  "nbformat": 4,
  "nbformat_minor": 0,
  "metadata": {
    "colab": {
      "provenance": []
    },
    "kernelspec": {
      "name": "python3",
      "display_name": "Python 3"
    },
    "language_info": {
      "name": "python"
    }
  },
  "cells": [
    {
      "cell_type": "markdown",
      "source": [
        "# ASSIGNMENT 5\n",
        "## Files, exceptional handling, logging and memory management"
      ],
      "metadata": {
        "id": "S0aQlOqyfIsk"
      }
    },
    {
      "cell_type": "markdown",
      "source": [
        "1. What is the difference between Intrepreter and Compiled language?\n",
        "  - Intrepreter Language : Converts the high level language into the binary code line by line.\n",
        "  - Compiled Language : Converts the whole code to the binary all at once instead of line by line.\n",
        "\n",
        "2. What is exception handling in Python?\n",
        "  - Exception Handling in python refers to the way we will be handling the code termination errors, with an alternative messages.\n",
        "\n",
        "3. What is the purpose of finally block in Exception Handling?\n",
        "  - Finally block in the exception handling is used to execute its block of code, irrespective of the Exception raised in the Try block.\n",
        "\n",
        "4. What is logging in python?\n",
        "  - Logging in python is used to record the messages, which are used while debugging, getting to know the flow of the code and to track the events.\n",
        "\n",
        "5. What is the significance of the __del__ method in Python?\n",
        "  - In python, __del__ is a dunder method, which is called implicitly whenever we are deleting the instance of the class.\n",
        "\n",
        "6. What is the difference betwee import and from... import in Python?\n",
        "  - Import is used for importing the methods, attributes from one file or libary to our current file.\n",
        "\n",
        "  - From is used to mention from What exact file do we want to import the details.\n",
        "\n",
        "7. How can you handle multiple exceptions in Python?\n",
        "  - In python multiple exceptions can be handled using multiple catch statements or we can also take a default catch block which accepts every type of the exception.\n",
        "\n",
        "8. What is the purpose of the with statement in python file handling?\n",
        "  - With keyword is used to give an another name to the file which we are opening which automatically, closes the file whenever the block of the with is completed.\n",
        "\n",
        "9. What is the difference between multithreading and multiprocessing0\n",
        "  - In multithreading, to execute a process multiple threads are used in the same process. Whereas in multiprocessing, processes are shared among the quadrants of the multiple parts of the processors, which ensures the process is done quickly.\n",
        "\n",
        "10. What are the advantages of using logging in a program?\n",
        "  - The advantages are:\n",
        "    - Checking the flow of the program.\n",
        "    - It is used in the debigging process.\n",
        "    - It is used to store the information or messages.\n",
        "\n",
        "11. What is the memory management in Python?\n",
        "  - There is no explicit memory management in python, everything happens implicitly.\n",
        "\n",
        "12. What are the basic steps involved in the Exception handling in python?\n",
        "  - Try Block : Where we will be writing the block of code where a error can be expected.\n",
        "\n",
        "  - Catch Block : Here for the exception raised in the try block will be carried to the catch block, where we can display a message or take step for that particular exception.\n",
        "\n",
        "  - Finally Block : This block of code is executed in any ways, irrespective of the try and the catch block.\n",
        "\n",
        "13. Why is memory management important in python?\n",
        "  - Because there is no explicit memory management way in python, everything happens internally. Which is why the memory management is important in python as the programmer does not know, what actually is happening inside.\n",
        "\n",
        "14. What is the role of try and except block in Python?\n",
        "  - Try Block : Where we will be writing the block of code where a error can be expected.\n",
        "\n",
        "  - Catch Block : Here for the exception raised in the try block will be carried to the catch block, where we can display a message or take step for that particular exception.\n",
        "\n",
        "15. How does Python's garbage collection system works?\n",
        "  - Python garbage collection automatically reclaims the memory which is unused through which it maintains memory management.\n",
        "\n",
        "16. What is the purpose of the else block in the exception handling?\n",
        "  - If no error strikes in the try block then the else block is triggered to be executed.\n",
        "\n",
        "17. What are the common logging levels in Python?\n",
        "  - Debug\n",
        "  - Info\n",
        "  - Warning\n",
        "  - Error\n",
        "  - Critical\n",
        "\n",
        "18. What is the difference between os.fork() and multiprocessing in Python?\n",
        "  - os.fork() is used in low level operating systems like UNIX, LINUX\n",
        "  - Multiprocessing is used in Windows, Mac etc., Latest OS\n",
        "\n",
        "19. What is the importance of closing a file in Python?\n",
        "  - If a file is opened then it must be closed, else we will have to be facing data loss, or data leak which lead to disasters.\n",
        "\n",
        "20. What is the difference between file.read() and file.readline() in Python?\n",
        "  - file.read() : Reads the data from the file in a sequential string format.\n",
        "  - file.readline() : Reads the data until \\n which means new line is triggered, reads line by line.\n",
        "\n",
        "21. What is the logging module in Python used for?\n",
        "  - Logging module in python is used to create the logs, in which we can store different types of the messages.\n",
        "\n",
        "22. What is the os module in Python used for in file handling?\n",
        "  - OS module in python is used to do the Tasks realted to the operating system, like creating a directory, creating a file etc.,\n",
        "\n",
        "23. What are the challenges associated with memory management in Python?\n",
        "  - Transparency is not available in the memory management, as explicit allocation or manipulation of the  data is not available in python.\n",
        "\n",
        "24. How do you raise an exception manually in Python?\n",
        "  - By using the raise keyword we can raise an exception manually by including a message in it.\n",
        "\n",
        "25. Why is it important to use multithreading in certain applications?\n",
        "  - So that the tasks will be happening in the same time, leading to lesser time complexity.\n",
        "\n",
        "\n",
        "\n",
        "\n",
        "\n",
        "\n",
        "\n",
        "  "
      ],
      "metadata": {
        "id": "lRTZZ0xAfPdP"
      }
    },
    {
      "cell_type": "markdown",
      "source": [
        "## Practical Questions"
      ],
      "metadata": {
        "id": "P2-pCM6mhD0X"
      }
    },
    {
      "cell_type": "code",
      "source": [
        "# Question 1\n",
        "with open(\"output.txt\", \"w\") as f:\n",
        "    f.write(\"Hello, world!\")\n"
      ],
      "metadata": {
        "colab": {
          "base_uri": "https://localhost:8080/"
        },
        "id": "GuXTbF867miN",
        "outputId": "ef54f29c-ef2d-488b-b8af-0c69b8e8ec5c"
      },
      "execution_count": null,
      "outputs": [
        {
          "output_type": "stream",
          "name": "stdout",
          "text": [
            "Bark\n"
          ]
        }
      ]
    },
    {
      "cell_type": "code",
      "source": [
        "# Question 2\n",
        "with open(\"output.txt\", \"r\") as f:\n",
        "    for line in f:\n",
        "        print(line, end=\"\")\n"
      ],
      "metadata": {
        "colab": {
          "base_uri": "https://localhost:8080/"
        },
        "id": "9E_kYxxM7zwb",
        "outputId": "7a739a9d-9c20-4730-88e1-1515fa702fd8"
      },
      "execution_count": null,
      "outputs": [
        {
          "output_type": "stream",
          "name": "stdout",
          "text": [
            "AREA :  78.5\n"
          ]
        }
      ]
    },
    {
      "cell_type": "code",
      "source": [
        "# Question 3\n",
        "try:\n",
        "    with open(\"nofile.txt\", \"r\") as f:\n",
        "        print(f.read())\n",
        "except FileNotFoundError:\n",
        "    print(\"File not found!\")\n",
        "\n"
      ],
      "metadata": {
        "id": "UyEMTCchBKOo"
      },
      "execution_count": null,
      "outputs": []
    },
    {
      "cell_type": "code",
      "source": [
        "# Question 4\n",
        "with open(\"source.txt\", \"r\") as src, open(\"dest.txt\", \"w\") as dest:\n",
        "    dest.write(src.read())\n"
      ],
      "metadata": {
        "colab": {
          "base_uri": "https://localhost:8080/"
        },
        "id": "a1_mSY4VBkMx",
        "outputId": "1af71b86-f6ea-4630-a49d-d6bfe5c961bd"
      },
      "execution_count": null,
      "outputs": [
        {
          "output_type": "stream",
          "name": "stdout",
          "text": [
            "Sparrow Flying\n"
          ]
        }
      ]
    },
    {
      "cell_type": "code",
      "source": [
        "# Question 5\n",
        "try:\n",
        "    result = 10 / 0\n",
        "except ZeroDivisionError:\n",
        "    print(\"Cannot divide by zero!\")\n"
      ],
      "metadata": {
        "id": "CWwXjgpsCrgd"
      },
      "execution_count": null,
      "outputs": []
    },
    {
      "cell_type": "code",
      "source": [
        "# Question 6\n",
        "import logging\n",
        "\n",
        "logging.basicConfig(filename=\"error.log\", level=logging.ERROR)\n",
        "\n",
        "try:\n",
        "    result = 10 / 0\n",
        "except ZeroDivisionError as e:\n",
        "    logging.error(\"Division by zero error: %s\", e)\n"
      ],
      "metadata": {
        "colab": {
          "base_uri": "https://localhost:8080/"
        },
        "id": "oPQKviv5EHF7",
        "outputId": "f752d30b-4930-465f-f55d-513509e51c49"
      },
      "execution_count": null,
      "outputs": [
        {
          "output_type": "stream",
          "name": "stdout",
          "text": [
            "Piano Playing\n"
          ]
        }
      ]
    },
    {
      "cell_type": "code",
      "source": [
        "# Question 7\n",
        "try:\n",
        "    with open(\"nofile.txt\", \"r\") as f:\n",
        "        print(f.read())\n",
        "except FileNotFoundError:\n",
        "    print(\"File not found!\")\n"
      ],
      "metadata": {
        "colab": {
          "base_uri": "https://localhost:8080/"
        },
        "id": "rGEDoLlHFz80",
        "outputId": "59b8b7e3-263f-4c15-baf2-551d1f516656"
      },
      "execution_count": null,
      "outputs": [
        {
          "output_type": "stream",
          "name": "stdout",
          "text": [
            "5\n",
            "15\n"
          ]
        }
      ]
    },
    {
      "cell_type": "code",
      "source": [
        "# Question 8\n",
        "with open(\"sample.txt\", \"r\") as f:\n",
        "    lines = f.readlines()\n"
      ],
      "metadata": {
        "colab": {
          "base_uri": "https://localhost:8080/"
        },
        "id": "hRZSEWsEJ4oV",
        "outputId": "43e06576-6f0b-46f1-88ed-93f6eb8f0687"
      },
      "execution_count": null,
      "outputs": [
        {
          "output_type": "execute_result",
          "data": {
            "text/plain": [
              "2"
            ]
          },
          "metadata": {},
          "execution_count": 14
        }
      ]
    },
    {
      "cell_type": "code",
      "source": [
        "# Question 9\n",
        "with open(\"sample.txt\", \"a\") as f:\n",
        "    f.write(\"Appended line\\n\")\n"
      ],
      "metadata": {
        "colab": {
          "base_uri": "https://localhost:8080/"
        },
        "id": "bIVq03XhKaVU",
        "outputId": "e2a8b9bd-0808-44b2-825b-4374b25ecf35"
      },
      "execution_count": null,
      "outputs": [
        {
          "output_type": "stream",
          "name": "stdout",
          "text": [
            "10  5\n"
          ]
        }
      ]
    },
    {
      "cell_type": "code",
      "source": [
        "# Question 10\n",
        "try:\n",
        "    d = {\"a\": 1}\n",
        "    print(d[\"b\"])\n",
        "except KeyError:\n",
        "    print(\"Key not found!\")\n"
      ],
      "metadata": {
        "colab": {
          "base_uri": "https://localhost:8080/"
        },
        "id": "DKl6sqdDLDdR",
        "outputId": "63045a42-6358-4722-aa75-9b0dbb020c0c"
      },
      "execution_count": null,
      "outputs": [
        {
          "output_type": "stream",
          "name": "stdout",
          "text": [
            "Vector : 4, 6\n"
          ]
        }
      ]
    },
    {
      "cell_type": "code",
      "source": [
        "# Question 11\n",
        "try:\n",
        "    x = int(\"abc\")\n",
        "    y = 1 / 0\n",
        "except ValueError:\n",
        "    print(\"Invalid value!\")\n",
        "except ZeroDivisionError:\n",
        "    print(\"Division by zero!\")\n"
      ],
      "metadata": {
        "colab": {
          "base_uri": "https://localhost:8080/"
        },
        "id": "uMpKBvuKMfJr",
        "outputId": "c3833f37-652d-4272-8fdd-542cdfcf5fac"
      },
      "execution_count": null,
      "outputs": [
        {
          "output_type": "stream",
          "name": "stdout",
          "text": [
            "Hello, my name is AKhil and I am 19 years old\n"
          ]
        }
      ]
    },
    {
      "cell_type": "code",
      "source": [
        "# Question 12\n",
        "import os\n",
        "if os.path.exists(\"sample.txt\"):\n",
        "    with open(\"sample.txt\") as f:\n",
        "        print(f.read())\n",
        "else:\n",
        "    print(\"File does not exist.\")\n"
      ],
      "metadata": {
        "colab": {
          "base_uri": "https://localhost:8080/"
        },
        "id": "vahasYIn7Oji",
        "outputId": "3a1e6047-63d7-4e89-a823-7df52e165bac"
      },
      "execution_count": null,
      "outputs": [
        {
          "output_type": "execute_result",
          "data": {
            "text/plain": [
              "12.5"
            ]
          },
          "metadata": {},
          "execution_count": 27
        }
      ]
    },
    {
      "cell_type": "code",
      "source": [
        "# Question 13\n",
        "import logging\n",
        "logging.basicConfig(filename=\"app.log\", level=logging.INFO)\n",
        "logging.info(\"This is an info message.\")\n",
        "try:\n",
        "    1 / 0\n",
        "except ZeroDivisionError:\n",
        "    logging.error(\"Division by zero occurred.\")\n",
        "\n"
      ],
      "metadata": {
        "colab": {
          "base_uri": "https://localhost:8080/"
        },
        "id": "zg8SALSN6t76",
        "outputId": "6314a4c5-1cf2-4565-bab7-a2744bbe9785"
      },
      "execution_count": null,
      "outputs": [
        {
          "output_type": "execute_result",
          "data": {
            "text/plain": [
              "6"
            ]
          },
          "metadata": {},
          "execution_count": 26
        }
      ]
    },
    {
      "cell_type": "code",
      "source": [
        "# Question 14\n",
        "with open(\"sample.txt\") as f:\n",
        "    content = f.read()\n",
        "    if content:\n",
        "        print(content)\n",
        "    else:\n",
        "        print(\"File is empty.\")\n"
      ],
      "metadata": {
        "colab": {
          "base_uri": "https://localhost:8080/"
        },
        "id": "J95Kk0zN7JxF",
        "outputId": "162a9763-e652-430d-96e1-e07ba671022e"
      },
      "execution_count": null,
      "outputs": [
        {
          "output_type": "execute_result",
          "data": {
            "text/plain": [
              "1025"
            ]
          },
          "metadata": {},
          "execution_count": 36
        }
      ]
    },
    {
      "cell_type": "code",
      "source": [
        "# Question 15\n",
        "from memory_profiler import profile\n",
        "\n",
        "@profile\n",
        "def compute():\n",
        "    x = [i for i in range(10000)]\n",
        "    return sum(x)\n",
        "\n",
        "compute()\n"
      ],
      "metadata": {
        "colab": {
          "base_uri": "https://localhost:8080/"
        },
        "id": "IMMjchPY_shJ",
        "outputId": "eb5f625c-f622-46c4-f5bd-bdf84c45c7da"
      },
      "execution_count": null,
      "outputs": [
        {
          "output_type": "execute_result",
          "data": {
            "text/plain": [
              "25"
            ]
          },
          "metadata": {},
          "execution_count": 38
        }
      ]
    },
    {
      "cell_type": "code",
      "source": [
        "# Question 16\n",
        "nums = [1, 2, 3, 4, 5]\n",
        "with open(\"numbers.txt\", \"w\") as f:\n",
        "    for num in nums:\n",
        "        f.write(f\"{num}\\n\")\n",
        "\n"
      ],
      "metadata": {
        "colab": {
          "base_uri": "https://localhost:8080/"
        },
        "id": "zfdO8UdNAwiz",
        "outputId": "3f87149d-6410-4f7d-9ec8-33012d89842a"
      },
      "execution_count": null,
      "outputs": [
        {
          "output_type": "stream",
          "name": "stdout",
          "text": [
            "Mehh\n"
          ]
        }
      ]
    },
    {
      "cell_type": "code",
      "source": [
        "# Question 17\n",
        "import logging\n",
        "from logging.handlers import RotatingFileHandler\n",
        "\n",
        "handler = RotatingFileHandler(\"rotate.log\", maxBytes=1024*1024, backupCount=3)\n",
        "logging.basicConfig(handlers=[handler], level=logging.INFO)\n",
        "logging.info(\"Logging with rotation\")\n"
      ],
      "metadata": {
        "colab": {
          "base_uri": "https://localhost:8080/",
          "height": 35
        },
        "id": "xO7DjDupA34l",
        "outputId": "8dbb70b8-3fc6-4330-f733-f00467769b37"
      },
      "execution_count": null,
      "outputs": [
        {
          "output_type": "execute_result",
          "data": {
            "text/plain": [
              "'Book Title : Harry Potter Author : Akhil Year : 1995'"
            ],
            "application/vnd.google.colaboratory.intrinsic+json": {
              "type": "string"
            }
          },
          "metadata": {},
          "execution_count": 44
        }
      ]
    },
    {
      "cell_type": "code",
      "source": [
        "# Question 18\n",
        "try:\n",
        "    lst = [1]\n",
        "    print(lst[2])\n",
        "    d = {\"x\": 1}\n",
        "    print(d[\"y\"])\n",
        "except IndexError:\n",
        "    print(\"List index out of range!\")\n",
        "except KeyError:\n",
        "    print(\"Key not found!\")\n"
      ],
      "metadata": {
        "id": "CjpantJnD9fe"
      },
      "execution_count": null,
      "outputs": []
    },
    {
      "cell_type": "code",
      "source": [
        "# Question 19\n",
        "with open(\"sample.txt\") as f:\n",
        "    print(f.read())\n"
      ],
      "metadata": {
        "id": "hmgA--_HEYEf",
        "colab": {
          "base_uri": "https://localhost:8080/",
          "height": 176
        },
        "collapsed": true,
        "outputId": "ed07e3ee-04ca-4492-d0c6-3dfe9272c900"
      },
      "execution_count": 1,
      "outputs": [
        {
          "output_type": "error",
          "ename": "FileNotFoundError",
          "evalue": "[Errno 2] No such file or directory: 'sample.txt'",
          "traceback": [
            "\u001b[0;31m---------------------------------------------------------------------------\u001b[0m",
            "\u001b[0;31mFileNotFoundError\u001b[0m                         Traceback (most recent call last)",
            "\u001b[0;32m<ipython-input-1-708e0545be09>\u001b[0m in \u001b[0;36m<cell line: 0>\u001b[0;34m()\u001b[0m\n\u001b[1;32m      1\u001b[0m \u001b[0;31m# Question 19\u001b[0m\u001b[0;34m\u001b[0m\u001b[0;34m\u001b[0m\u001b[0m\n\u001b[0;32m----> 2\u001b[0;31m \u001b[0;32mwith\u001b[0m \u001b[0mopen\u001b[0m\u001b[0;34m(\u001b[0m\u001b[0;34m\"sample.txt\"\u001b[0m\u001b[0;34m)\u001b[0m \u001b[0;32mas\u001b[0m \u001b[0mf\u001b[0m\u001b[0;34m:\u001b[0m\u001b[0;34m\u001b[0m\u001b[0;34m\u001b[0m\u001b[0m\n\u001b[0m\u001b[1;32m      3\u001b[0m     \u001b[0mprint\u001b[0m\u001b[0;34m(\u001b[0m\u001b[0mf\u001b[0m\u001b[0;34m.\u001b[0m\u001b[0mread\u001b[0m\u001b[0;34m(\u001b[0m\u001b[0;34m)\u001b[0m\u001b[0;34m)\u001b[0m\u001b[0;34m\u001b[0m\u001b[0;34m\u001b[0m\u001b[0m\n",
            "\u001b[0;31mFileNotFoundError\u001b[0m: [Errno 2] No such file or directory: 'sample.txt'"
          ]
        }
      ]
    },
    {
      "cell_type": "code",
      "source": [
        "# Question 20\n",
        "word = \"python\"\n",
        "with open(\"sample.txt\") as f:\n",
        "    content = f.read().lower()\n",
        "    print(content.count(word.lower()))\n"
      ],
      "metadata": {
        "id": "vROJfbQ9I4WR"
      },
      "execution_count": null,
      "outputs": []
    },
    {
      "cell_type": "code",
      "source": [
        "# Quesition 21\n",
        "\n",
        "import os\n",
        "if os.path.exists(\"sample.txt\") and os.stat(\"sample.txt\").st_size == 0:\n",
        "    print(\"File is empty\")\n"
      ],
      "metadata": {
        "id": "oq4kwCMpI_bU"
      },
      "execution_count": null,
      "outputs": []
    },
    {
      "cell_type": "code",
      "source": [
        "# Question 22\n",
        "\n",
        "import logging\n",
        "logging.basicConfig(filename=\"file_error.log\", level=logging.ERROR)\n",
        "try:\n",
        "    with open(\"nofile.txt\") as f:\n",
        "        f.read()\n",
        "except Exception as e:\n",
        "    logging.error(\"File handling error: %s\", e)\n"
      ],
      "metadata": {
        "id": "-caoYV2rJBWg"
      },
      "execution_count": null,
      "outputs": []
    }
  ]
}
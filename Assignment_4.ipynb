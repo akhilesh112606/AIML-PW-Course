{
  "nbformat": 4,
  "nbformat_minor": 0,
  "metadata": {
    "colab": {
      "provenance": []
    },
    "kernelspec": {
      "name": "python3",
      "display_name": "Python 3"
    },
    "language_info": {
      "name": "python"
    }
  },
  "cells": [
    {
      "cell_type": "markdown",
      "source": [
        "# ASSIGNMENT 4\n",
        "## Python OOPs"
      ],
      "metadata": {
        "id": "S0aQlOqyfIsk"
      }
    },
    {
      "cell_type": "markdown",
      "source": [
        "1. What is Object-Oriented Programming (OOP)?\n",
        "  - Object Oriented Programming is a Paradigm in Programming which involves Classes and its Instances. OOPs involves 4 main pillars.\n",
        "    - Inheritance\n",
        "    - Abstraction\n",
        "    - Encapsulation\n",
        "    - Polymorphism\n",
        "\n",
        "2. What is a Class in OOP?\n",
        "  - Class is a set of Methods, Attributes and for this class an instance also called as Object is created through which we can access it.\n",
        "\n",
        "3. What is an Object in OOP?\n",
        "  - An object is an instance of the class, through which we can access the methods, attributes. Object acts as a replicate copy for the class\n",
        "\n",
        "4. What is the difference between Encapsulation and Abstraction?\n",
        "  - Encapsulation is the process of giving access specifiers to all the components of a class.\n",
        "  - Abstraction is the process of pre-defining the methods and properties which has to be inherited in the class and showing only the information which is required.\n",
        "\n",
        "5. What are dunder methods in Python?\n",
        "  - Dunder methods in python are the methods which are defined by the inbuilt modules in the python.\n",
        "\n",
        "6. Explain the concept of inheritance in OOP.\n",
        "  - Inheritance is the property in OOPS where a class(SubClass) inherits all the propeties from an another class(Super Class).\n",
        "\n",
        "7. What is Polymorphism in OOP.\n",
        "  - Polymorphism state occurs during inheritance which includes the methods having same name but different parameter intake. This occurs in 2 states, method overloading or method overriding\n",
        "\n",
        "8. How is Encapsulation Achieved in Python.\n",
        "  - Encapsulation is achieved in python, by making the attributes or methods, private, public, or protected.\n",
        "\n",
        "9. What is a constructor in Python?\n",
        "  - A constructor is the starting funciton in python which gets triggered whenever an object is created for the class. It is generally used to intialize the attributes in the class with NULL Values by default.\n",
        "\n",
        "10. What are class and static methods in Python?\n",
        "  - Class methods are the methods which can be accessed using the Class name itself, there is no need of its instance to access it. Using the class methods we can access the class variables.\n",
        "\n",
        "  - Static Methods are the methods in a class which does not belong to the class or its instance, it is just a method inside the class.\n",
        "\n",
        "11. What is Method Overloading in Python?\n",
        "  - Method Overloading is the situation which occurs when A method inside a class is re declared again and again with different parameter intakes, then Method overloading takes place in python, Python does not support Traditional method overloading.\n",
        "\n",
        "12. What is method overriding in OOP?\n",
        "   - Method overriding is the process in OOP where A same method name clashes between the classes which are in Inheritance then method overriding occurs.\n",
        "\n",
        "13. What is a Property Deoration in Python?\n",
        "  - Property decorator is a method which is used to make the methods as a attributes, there are setter and getter decorators. To access the private attributes, instead of calling them using a function we can trigger those functions by calling them like an attribute.\n",
        "\n",
        "14. Why is Polymorphism important in OOPS?\n",
        "  - Polymorphism ensures that how an method should be working for wide range of parameter intakes, so that no edge cases will lead to faculty outputs. It makes the code more flexible and reusable.\n",
        "\n",
        "15. What is an Abstract class in Python?\n",
        "  - Abstract class is a class which acts as a blueprint for the defining process of another class. Abstract classes can be implemented by Inherting them as subclasses. In python abstract decorators are avaiable in the abc module\n",
        "\n",
        "16. What are the Advantes of OOP?\n",
        "  - Using the OOPs concept we can draw all the methods and attributes belonging to a particular purpose undr a single roof name class. Which increases the readability.\n",
        "\n",
        "17. What is the difference between a class variable and an instance variable?\n",
        "  - A class variable is assosciated with the class and can be accessed using the class name, no instances is created for this variable. Whereas instance variable is the variable which a copy for every object created for that class.\n",
        "\n",
        "18. What is multiple inheritance in Python?\n",
        "  - A inheritance flow, where A class is inherited by B class and B class is inherited by C class through whihc now C is inherting from both the A class and the B class.\n",
        "\n",
        "19.  Explain the purpose of ‘’__str__’ and ‘__repr__’ ‘ methods in Python?\n",
        "  - In python __str__ dunder method is used as a string repersentation of the class, For example : If the class is kept inside a print statement then it prints the string form which is mentioned in the __str__ method in a class.\n",
        "\n",
        "  - In Python __repr__ acts as a representation dunder method which also acts as a __str__ but here it is more detailed with unambigious string which gives more details especially for the developers and debuggers.\n",
        "\n",
        "20. What is the significance of the ‘super()’ function in Python?\n",
        "  - Super() refers to the Super Class which we have inherited through, and we can call the Main Class methods using this functions.\n",
        "\n",
        "21. What is the significance of the __del__ method in Python?\n",
        "  - __del__ function acts as a destructor for the class object, if a classes object is destroyed then this will get called.\n",
        "\n",
        "22. What is the difference between @staticmethod and @classmethod in Python?\n",
        "  - Both are the decorator methods, classmethod needs the cls as a parameter whereas static method does not need it.\n",
        "\n",
        "23.  How does polymorphism work in Python with inheritance?\n",
        "  - During inheritance polymorphism takes place when a same method named in the Super class is also declared in its subclass, it is also called as Method Overriding.\n",
        "\n",
        "24. What is method chaining in Python OOP?\n",
        "  - Method chaining is nothing but calling multiple methods of the class at the same time, using the . operator so that they will be executed one after the another.\n",
        "\n",
        "25. What is the purpose of the __call__ method in Python?\n",
        "  - Whenever the object of a class is called by passing a parameter then the __call__ method is triggered.\n"
      ],
      "metadata": {
        "id": "lRTZZ0xAfPdP"
      }
    },
    {
      "cell_type": "markdown",
      "source": [
        "## Practical Questions"
      ],
      "metadata": {
        "id": "P2-pCM6mhD0X"
      }
    },
    {
      "cell_type": "code",
      "source": [
        "# Question 1\n",
        "class Animal:\n",
        "  def speak(self):\n",
        "    print(\"Speaking\")\n",
        "\n",
        "class Dog(Animal):\n",
        "  def speak(self):\n",
        "    print(\"Bark\")\n",
        "\n",
        "obj1 = Dog()\n",
        "obj1.speak()"
      ],
      "metadata": {
        "colab": {
          "base_uri": "https://localhost:8080/"
        },
        "id": "GuXTbF867miN",
        "outputId": "ef54f29c-ef2d-488b-b8af-0c69b8e8ec5c"
      },
      "execution_count": 1,
      "outputs": [
        {
          "output_type": "stream",
          "name": "stdout",
          "text": [
            "Bark\n"
          ]
        }
      ]
    },
    {
      "cell_type": "code",
      "source": [
        "# Question 2\n",
        "from abc import ABC, abstractmethod\n",
        "class Shape():\n",
        "  @abstractmethod\n",
        "  def area():\n",
        "    pass\n",
        "\n",
        "class Circle(Shape):\n",
        "  def area(self, r):\n",
        "    print(\"AREA : \", 3.14*r*r)\n",
        "\n",
        "class Rectangle(Shape):\n",
        "  def area(self, l,b):\n",
        "    print(\"AREA : \", l*b)\n",
        "\n",
        "c = Circle()\n",
        "c.area(5)"
      ],
      "metadata": {
        "colab": {
          "base_uri": "https://localhost:8080/"
        },
        "id": "9E_kYxxM7zwb",
        "outputId": "7a739a9d-9c20-4730-88e1-1515fa702fd8"
      },
      "execution_count": 5,
      "outputs": [
        {
          "output_type": "stream",
          "name": "stdout",
          "text": [
            "AREA :  78.5\n"
          ]
        }
      ]
    },
    {
      "cell_type": "code",
      "source": [
        "# Question 3\n",
        "class Vehicle:\n",
        "  def __init__(self):\n",
        "    self.tyre = 0\n",
        "    self.doors = 0\n",
        "\n",
        "class ElectricVehicle(Vehicle):\n",
        "  def __init__(self):\n",
        "    self.battery = 0\n"
      ],
      "metadata": {
        "id": "UyEMTCchBKOo"
      },
      "execution_count": 6,
      "outputs": []
    },
    {
      "cell_type": "code",
      "source": [
        "# Question 4\n",
        "class Bird:\n",
        "  def fly(self):\n",
        "    print(\"Bird Flying\")\n",
        "\n",
        "class Sparrow(Bird):\n",
        "  def fly(self):\n",
        "    print(\"Sparrow Flying\")\n",
        "\n",
        "class Penguin(Bird):\n",
        "  def fly(self):\n",
        "    print(\"Penguin Flying\")\n",
        "\n",
        "obj1 = Sparrow()\n",
        "obj1.fly()"
      ],
      "metadata": {
        "colab": {
          "base_uri": "https://localhost:8080/"
        },
        "id": "a1_mSY4VBkMx",
        "outputId": "1af71b86-f6ea-4630-a49d-d6bfe5c961bd"
      },
      "execution_count": 8,
      "outputs": [
        {
          "output_type": "stream",
          "name": "stdout",
          "text": [
            "Sparrow Flying\n"
          ]
        }
      ]
    },
    {
      "cell_type": "code",
      "source": [
        "# Question 5\n",
        "class BankAccount:\n",
        "  def __init__(self):\n",
        "    self.__balance = 0;\n",
        "\n",
        "    def deposit(self):\n",
        "      pass\n",
        "\n",
        "    def withdraw(self):\n",
        "      pass\n",
        "\n",
        "    def checkbalance(self):\n",
        "      return self.__balance\n",
        "\n"
      ],
      "metadata": {
        "id": "CWwXjgpsCrgd"
      },
      "execution_count": 9,
      "outputs": []
    },
    {
      "cell_type": "code",
      "source": [
        "# Question 6\n",
        "class MusicInstrument:\n",
        "  def play(self):\n",
        "    print(\"Playing\")\n",
        "\n",
        "class Guitar(MusicInstrument):\n",
        "  def play(self):\n",
        "    print(\"Guitar Playing\")\n",
        "\n",
        "class Piano(MusicInstrument):\n",
        "  def play(self):\n",
        "    print(\"Piano Playing\")\n",
        "\n",
        "obj1 = Piano()\n",
        "obj1.play()"
      ],
      "metadata": {
        "colab": {
          "base_uri": "https://localhost:8080/"
        },
        "id": "oPQKviv5EHF7",
        "outputId": "f752d30b-4930-465f-f55d-513509e51c49"
      },
      "execution_count": 11,
      "outputs": [
        {
          "output_type": "stream",
          "name": "stdout",
          "text": [
            "Piano Playing\n"
          ]
        }
      ]
    },
    {
      "cell_type": "code",
      "source": [
        "# Question 7\n",
        "class MathOperations:\n",
        "  @classmethod\n",
        "  def add_numbers(cls,a,b):\n",
        "    print(a+b)\n",
        "\n",
        "  @staticmethod\n",
        "  def subtract_numbers(a,b):\n",
        "    print(a-b)\n",
        "\n",
        "\n",
        "MathOperations.subtract_numbers(10,5)\n",
        "MathOperations.add_numbers(10,5)"
      ],
      "metadata": {
        "colab": {
          "base_uri": "https://localhost:8080/"
        },
        "id": "rGEDoLlHFz80",
        "outputId": "59b8b7e3-263f-4c15-baf2-551d1f516656"
      },
      "execution_count": 13,
      "outputs": [
        {
          "output_type": "stream",
          "name": "stdout",
          "text": [
            "5\n",
            "15\n"
          ]
        }
      ]
    },
    {
      "cell_type": "code",
      "source": [
        "# Question 8\n",
        "class Person:\n",
        "  number_of_persons = 0\n",
        "  def __init__(self):\n",
        "    Person.number_of_persons+=1\n",
        "\n",
        "  @classmethod\n",
        "  def total_obj(cls):\n",
        "    return Person.number_of_persons\n",
        "obj1 = Person()\n",
        "obj2 = Person()\n",
        "Person.total_obj()"
      ],
      "metadata": {
        "colab": {
          "base_uri": "https://localhost:8080/"
        },
        "id": "hRZSEWsEJ4oV",
        "outputId": "43e06576-6f0b-46f1-88ed-93f6eb8f0687"
      },
      "execution_count": 14,
      "outputs": [
        {
          "output_type": "execute_result",
          "data": {
            "text/plain": [
              "2"
            ]
          },
          "metadata": {},
          "execution_count": 14
        }
      ]
    },
    {
      "cell_type": "code",
      "source": [
        "# Question 9\n",
        "class Fraction():\n",
        "  def __init__(self):\n",
        "    self.numberator = 5\n",
        "    self.denominator = 10\n",
        "\n",
        "class disp(Fraction):\n",
        "  def __str__(self):\n",
        "    return str(self.denominator) +\"  \" + str(self.numberator)\n",
        "\n",
        "obj1 = disp()\n",
        "print(disp())"
      ],
      "metadata": {
        "colab": {
          "base_uri": "https://localhost:8080/"
        },
        "id": "bIVq03XhKaVU",
        "outputId": "e2a8b9bd-0808-44b2-825b-4374b25ecf35"
      },
      "execution_count": 22,
      "outputs": [
        {
          "output_type": "stream",
          "name": "stdout",
          "text": [
            "10  5\n"
          ]
        }
      ]
    },
    {
      "cell_type": "code",
      "source": [
        "# Question 10\n",
        "class Vector:\n",
        "  def __init__(self,x,y):\n",
        "    self.x = x\n",
        "    self.y = y\n",
        "\n",
        "  def __add__(self, obj):\n",
        "    return Vector(self.x+obj.x, self.y+obj.y)\n",
        "\n",
        "  def __str__(self):\n",
        "    return f\"Vector : {self.x}, {self.y}\"\n",
        "\n",
        "v1 = Vector(3,4)\n",
        "v2 = Vector(1,2)\n",
        "v3 = v1+v2\n",
        "print(v3)"
      ],
      "metadata": {
        "colab": {
          "base_uri": "https://localhost:8080/"
        },
        "id": "DKl6sqdDLDdR",
        "outputId": "63045a42-6358-4722-aa75-9b0dbb020c0c"
      },
      "execution_count": 23,
      "outputs": [
        {
          "output_type": "stream",
          "name": "stdout",
          "text": [
            "Vector : 4, 6\n"
          ]
        }
      ]
    },
    {
      "cell_type": "code",
      "source": [
        "# Question 11\n",
        "class Person:\n",
        "  def __init__(self, name, age):\n",
        "    self.name = name\n",
        "    self.age = age\n",
        "\n",
        "  def greet(self):\n",
        "    print(f\"Hello, my name is {self.name} and I am {self.age} years old\")\n",
        "\n",
        "obj1 = Person(\"AKhil\", 19)\n",
        "obj1.greet()"
      ],
      "metadata": {
        "colab": {
          "base_uri": "https://localhost:8080/"
        },
        "id": "uMpKBvuKMfJr",
        "outputId": "c3833f37-652d-4272-8fdd-542cdfcf5fac"
      },
      "execution_count": 25,
      "outputs": [
        {
          "output_type": "stream",
          "name": "stdout",
          "text": [
            "Hello, my name is AKhil and I am 19 years old\n"
          ]
        }
      ]
    },
    {
      "cell_type": "code",
      "source": [
        "# Question 12\n",
        "class Student:\n",
        "  def __init__(self, name, grade):\n",
        "    self.name = name\n",
        "    self.grade = grade\n",
        "  def average_grade(self):\n",
        "    sum = 0\n",
        "    for mark in self.grade:\n",
        "      sum+=mark\n",
        "    return sum/len(self.grade)\n",
        "\n",
        "obj1 = Student(\"Akhil\", [5,10,15,20])\n",
        "obj1.average_grade()"
      ],
      "metadata": {
        "colab": {
          "base_uri": "https://localhost:8080/"
        },
        "id": "vahasYIn7Oji",
        "outputId": "3a1e6047-63d7-4e89-a823-7df52e165bac"
      },
      "execution_count": 27,
      "outputs": [
        {
          "output_type": "execute_result",
          "data": {
            "text/plain": [
              "12.5"
            ]
          },
          "metadata": {},
          "execution_count": 27
        }
      ]
    },
    {
      "cell_type": "code",
      "source": [
        "# Question 13\n",
        "class Rectangle:\n",
        "  def __init__(self):\n",
        "    self.len = 0\n",
        "    self.bre = 0\n",
        "\n",
        "  def set_dimensions(self, l,b):\n",
        "    self.len = l\n",
        "    self.bre = b\n",
        "\n",
        "  def area(self):\n",
        "    return self.len*self.bre\n",
        "\n",
        "obj1 = Rectangle()\n",
        "obj1.set_dimensions(2,3)\n",
        "obj1.area()\n"
      ],
      "metadata": {
        "colab": {
          "base_uri": "https://localhost:8080/"
        },
        "id": "zg8SALSN6t76",
        "outputId": "6314a4c5-1cf2-4565-bab7-a2744bbe9785"
      },
      "execution_count": 26,
      "outputs": [
        {
          "output_type": "execute_result",
          "data": {
            "text/plain": [
              "6"
            ]
          },
          "metadata": {},
          "execution_count": 26
        }
      ]
    },
    {
      "cell_type": "code",
      "source": [
        "# Question 14\n",
        "class Employee:\n",
        "  def __init__(self, hours, rate):\n",
        "    self.hours = hours\n",
        "    self.rate = rate\n",
        "    self.salary = self.hours*self.rate\n",
        "  def calcuate_salar(self):\n",
        "    return self.salary\n",
        "\n",
        "class Bonus(Employee):\n",
        "  def __init__(self, hours, rate):\n",
        "    self.hours = hours\n",
        "    self.rate = rate\n",
        "    self.salary = self.hours*self.rate\n",
        "  def bonus(self):\n",
        "    return self.salary+1000\n",
        "\n",
        "obj1 = Bonus(5,5)\n",
        "obj1.bonus()"
      ],
      "metadata": {
        "colab": {
          "base_uri": "https://localhost:8080/"
        },
        "id": "J95Kk0zN7JxF",
        "outputId": "162a9763-e652-430d-96e1-e07ba671022e"
      },
      "execution_count": 36,
      "outputs": [
        {
          "output_type": "execute_result",
          "data": {
            "text/plain": [
              "1025"
            ]
          },
          "metadata": {},
          "execution_count": 36
        }
      ]
    },
    {
      "cell_type": "code",
      "source": [
        "# Question 15\n",
        "class Product:\n",
        "  def __init__(self, name, price, quantity):\n",
        "    self.name = name\n",
        "    self.price = price\n",
        "    self.quantity = quantity\n",
        "\n",
        "  def total_price(self):\n",
        "    return self.price*self.quantity\n",
        "\n",
        "obj1 = Product(\"Apples\", 5,5)\n",
        "obj1.total_price()"
      ],
      "metadata": {
        "colab": {
          "base_uri": "https://localhost:8080/"
        },
        "id": "IMMjchPY_shJ",
        "outputId": "eb5f625c-f622-46c4-f5bd-bdf84c45c7da"
      },
      "execution_count": 38,
      "outputs": [
        {
          "output_type": "execute_result",
          "data": {
            "text/plain": [
              "25"
            ]
          },
          "metadata": {},
          "execution_count": 38
        }
      ]
    },
    {
      "cell_type": "code",
      "source": [
        "# Question 16\n",
        "from abc import abstractclassmethod, ABC\n",
        "class Animal(ABC):\n",
        "  @abstractmethod\n",
        "  def sound():\n",
        "    pass\n",
        "\n",
        "class Cow(Animal):\n",
        "  def sound(self):\n",
        "    print(\"Mooo\")\n",
        "\n",
        "class Sheep(Animal):\n",
        "  def sound(self):\n",
        "    print(\"Mehh\")\n",
        "\n",
        "obj1= Sheep()\n",
        "obj1.sound()\n",
        "\n"
      ],
      "metadata": {
        "colab": {
          "base_uri": "https://localhost:8080/"
        },
        "id": "zfdO8UdNAwiz",
        "outputId": "3f87149d-6410-4f7d-9ec8-33012d89842a"
      },
      "execution_count": 42,
      "outputs": [
        {
          "output_type": "stream",
          "name": "stdout",
          "text": [
            "Mehh\n"
          ]
        }
      ]
    },
    {
      "cell_type": "code",
      "source": [
        "# Question 17\n",
        "class Book:\n",
        "  def __init__(self, title, author, year):\n",
        "    self.title = title\n",
        "    self.author = author\n",
        "    self.year = year\n",
        "\n",
        "  def get_book_info(self):\n",
        "    return f\"Book Title : {self.title} Author : {self.author} Year : {self.year}\"\n",
        "\n",
        "obj1 = Book(\"Harry Potter\", \"Akhil\", 1995)\n",
        "obj1.get_book_info()"
      ],
      "metadata": {
        "colab": {
          "base_uri": "https://localhost:8080/",
          "height": 35
        },
        "id": "xO7DjDupA34l",
        "outputId": "8dbb70b8-3fc6-4330-f733-f00467769b37"
      },
      "execution_count": 44,
      "outputs": [
        {
          "output_type": "execute_result",
          "data": {
            "text/plain": [
              "'Book Title : Harry Potter Author : Akhil Year : 1995'"
            ],
            "application/vnd.google.colaboratory.intrinsic+json": {
              "type": "string"
            }
          },
          "metadata": {},
          "execution_count": 44
        }
      ]
    },
    {
      "cell_type": "code",
      "source": [
        "# Question 18\n",
        "class House:\n",
        "  def __init__(self, address, price):\n",
        "    self.address = address\n",
        "    self.price = price\n",
        "class Mansion:\n",
        "  def __init__(self, address, price, number_of_rooms):\n",
        "    self.address = address\n",
        "    self.price = price\n",
        "    self.number_of_rooms = number_of_rooms\n",
        ""
      ],
      "metadata": {
        "id": "CjpantJnD9fe"
      },
      "execution_count": 45,
      "outputs": []
    },
    {
      "cell_type": "code",
      "source": [],
      "metadata": {
        "id": "hmgA--_HEYEf"
      },
      "execution_count": null,
      "outputs": []
    }
  ]
}